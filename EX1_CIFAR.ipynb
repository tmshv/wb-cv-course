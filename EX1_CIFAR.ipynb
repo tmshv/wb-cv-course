{
  "nbformat": 4,
  "nbformat_minor": 0,
  "metadata": {
    "colab": {
      "provenance": []
    },
    "kernelspec": {
      "name": "python3",
      "display_name": "Python 3"
    },
    "language_info": {
      "name": "python"
    }
  },
  "cells": [
    {
      "cell_type": "markdown",
      "source": [
        "\n",
        "## Классификация изображений из датасета [CIFAR-10](https://www.cs.toronto.edu/~kriz/cifar.html)\n"
      ],
      "metadata": {
        "id": "SNj1mmNDik3L"
      }
    },
    {
      "cell_type": "markdown",
      "source": [
        "## Часть 1\n",
        "\n",
        "Требования\n",
        "\n",
        "1. Используйте фреймворк [Pytorch](https://pytorch.org/)\n",
        "\n",
        "2. Не используйте предобученные модели.\n",
        "\n",
        "3. Можете загрузить готовую модель или использовать собственную архитектуру.\n",
        "\n",
        "4. Выберите способ оценки качества предсказаний модели. Обоснуйте его.\n",
        "\n",
        "5. Проведите обучение. Продемонстрируйте умение использовать соответствующие инструменты.\n",
        "\n",
        "6. Оцените полученный результат.\n",
        "\n",
        "*Не используйте инструменты принцип работы которых вам непонятен."
      ],
      "metadata": {
        "id": "Lzke8YgukOQt"
      }
    },
    {
      "cell_type": "markdown",
      "source": [
        "### Данные"
      ],
      "metadata": {
        "id": "rF_0Fa4Smllm"
      }
    },
    {
      "cell_type": "code",
      "execution_count": null,
      "metadata": {
        "id": "rZASWVLvK9jo",
        "colab": {
          "base_uri": "https://localhost:8080/"
        },
        "outputId": "00bbab0f-5a48-49fc-b04f-61cd7aa7a164"
      },
      "outputs": [
        {
          "output_type": "stream",
          "name": "stdout",
          "text": [
            "Downloading https://www.cs.toronto.edu/~kriz/cifar-10-python.tar.gz to content/cifar-10-python.tar.gz\n"
          ]
        },
        {
          "output_type": "stream",
          "name": "stderr",
          "text": [
            "100%|██████████| 170498071/170498071 [00:02<00:00, 74552201.05it/s]\n"
          ]
        },
        {
          "output_type": "stream",
          "name": "stdout",
          "text": [
            "Extracting content/cifar-10-python.tar.gz to content\n"
          ]
        }
      ],
      "source": [
        "from torchvision import models, datasets\n",
        "\n",
        "# Download a CIFAR10 dataset\n",
        "dataset = datasets.CIFAR10(\"content\", train=True, download=True)\n",
        "\n",
        "# You code here"
      ]
    },
    {
      "cell_type": "code",
      "source": [
        "# You code here"
      ],
      "metadata": {
        "id": "S-QXiycqm9xk"
      },
      "execution_count": null,
      "outputs": []
    },
    {
      "cell_type": "markdown",
      "source": [
        "### Модель"
      ],
      "metadata": {
        "id": "HrwJDAvpmk1W"
      }
    },
    {
      "cell_type": "code",
      "source": [
        "# You code here"
      ],
      "metadata": {
        "id": "Tn23bO_7mt14"
      },
      "execution_count": null,
      "outputs": []
    },
    {
      "cell_type": "markdown",
      "source": [
        "### Обучение"
      ],
      "metadata": {
        "id": "OOz3OZAomvXO"
      }
    },
    {
      "cell_type": "code",
      "source": [
        "# You code here"
      ],
      "metadata": {
        "id": "QMh6R6o3m8Mr"
      },
      "execution_count": null,
      "outputs": []
    },
    {
      "cell_type": "markdown",
      "source": [
        "### Оценка результата"
      ],
      "metadata": {
        "id": "pjn4HSSEm28g"
      }
    },
    {
      "cell_type": "code",
      "source": [
        "# You code here"
      ],
      "metadata": {
        "id": "OXH43MRWm7Ku"
      },
      "execution_count": null,
      "outputs": []
    },
    {
      "cell_type": "markdown",
      "source": [
        "## Часть 2\n",
        "\n",
        "\n",
        "1. Решите ту же задачу, но без ограничения на использование предобученных моделей.\n",
        "\n",
        "2. Проведите сравнительный анализ результатов полученных в первой и второй части.\n"
      ],
      "metadata": {
        "id": "QO06cGBvkotj"
      }
    },
    {
      "cell_type": "code",
      "source": [
        "# You code here"
      ],
      "metadata": {
        "id": "zpaGzrJoiexa"
      },
      "execution_count": null,
      "outputs": []
    },
    {
      "cell_type": "markdown",
      "source": [
        "## Вывод\n",
        "\n",
        "..."
      ],
      "metadata": {
        "id": "O28yk5z1lsIv"
      }
    },
    {
      "cell_type": "markdown",
      "source": [
        "Будь те готовы ответить на любые вопросы по коду, процессу обучения, моделям и метрикам."
      ],
      "metadata": {
        "id": "exWY19FHlw3C"
      }
    }
  ]
}