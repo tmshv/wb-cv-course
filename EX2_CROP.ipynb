{
  "nbformat": 4,
  "nbformat_minor": 0,
  "metadata": {
    "colab": {
      "provenance": []
    },
    "kernelspec": {
      "name": "python3",
      "display_name": "Python 3"
    },
    "language_info": {
      "name": "python"
    }
  },
  "cells": [
    {
      "cell_type": "markdown",
      "source": [
        "# Поиск товара на фотографии\n",
        "\n",
        "**Описание задачи**\n",
        "\n",
        "\n",
        "Товар может занимать только часть фотографии: обувь на ногах модели, серьги в ушах и.т.п На некоторых фотографиях вообще может не быть самого товара:\n",
        "\n",
        "\n",
        "<img src =\"https://ml.gan4x4.ru/wb/crop/content/29028922.jpg\" width=\"200\">\n",
        "\n",
        "\n",
        "<img src =\"https://ml.gan4x4.ru/wb/crop/content/18327379.jpg\" width=\"200\">\n",
        "\n",
        "\n",
        "<img src =\"https://ml.gan4x4.ru/wb/crop/content/42648846.jpg\" width=\"200\">\n",
        "\n",
        "\n",
        "Для дальнейшего поиска похожих товаров важно локализовать товар на конкретном фото, т.е. предсказывать ограничивающий прямоугольник (bounding box) в который попадает  изображение товара и определить класс объекта в этом прямоугольнике.\n",
        "\n",
        "\n",
        "В датасете 13 категорий товаров:\n",
        "\n",
        "accessories (аксессуары/украшения)\n",
        "\n",
        "\n",
        "* bag (сумка)\n",
        "* belt (ремень)\n",
        "* dress (платье)\n",
        "* glasses (очки)\n",
        "* headwear (то, что носят на голове, например головной убор или заколка)\n",
        "* outer (верхняя одежда)\n",
        "* pants (штаны)\n",
        "* scarf (шарф)\n",
        "* shoe (обувь)\n",
        "* shorts (шорты)\n",
        "* skirt (юбка)\n",
        "* top (блузка, футболка, майка, кардиган и т.п)\n",
        "\n",
        "Нужно предложть способ детектировать объекты этих классов на изображениях.\n",
        "И оценить качество детектирования.\n",
        "\n",
        "**Особенности разметки:**\n",
        "* Некоторые изображения могут не содержать ни одного объекта\n",
        "* Если объект виден частично, каждая его часть размечается отдельным bounding box\n",
        "* несколько объектов одного класса находящихся рядом размечаются разными bounding box\n",
        "\n",
        "\n",
        "**Дополнительно:** Допускаеться использование дополнительных данных, и предобученных моделей."
      ],
      "metadata": {
        "id": "7C-0fnhYL-E9"
      }
    },
    {
      "cell_type": "markdown",
      "source": [
        "## Порядок выполнения задания\n",
        "\n",
        "Задание рекомендуется выполнять по шагам:\n",
        "\n",
        "1. Познакомьтесь с данными\n",
        "2. Выберите метрику для оценки результата\n",
        "3. Проведите анализ состояния вопроса, изучите существующие модели которые можно использовать для решения задачи\n",
        "4. Проведите EDA, опишите особенности данных и проблемы которые они могут за собой повлечь\n",
        "5. Подготовьте данные для обучения\n",
        "6. Выберите baseline модель, оцените качество её работы на данном датасете.\n",
        "7. Попробуйте улучшить значение метрики используя другую модель. Возможно обучив/дообучив ее.\n",
        "8. Оцените быстродействие выбранной модели\n",
        "9. Дайте оценку полученному результату.\n",
        "\n",
        "\n",
        "**Важно!**\n",
        "\n",
        "Блокнот должен содержать весь необходимый код для запуска финальной модели. Если для запуска требуется подгрузка весов, все ссылки длжны работать не только в вашем аккаунте но и в аккаунте преподавателя."
      ],
      "metadata": {
        "id": "87-6nt3BeulQ"
      }
    },
    {
      "cell_type": "markdown",
      "source": [
        "#  Загрузка датасета\n",
        "\n",
        "По [ссылке](https://ml.gan4x4.ru/wb/crop/clothes4/student.zip) находится архив содержащий изображения и разметку в [формате YOLO](https://stackoverflow.com/questions/56004483/what-is-a-multi-headed-model-and-what-exactly-is-a-head-in-a-model)"
      ],
      "metadata": {
        "id": "hkqBsRzlcqxK"
      }
    },
    {
      "cell_type": "code",
      "execution_count": null,
      "metadata": {
        "id": "kO-Yim8U3o4p"
      },
      "outputs": [],
      "source": [
        "!wget -nc https://ml.gan4x4.ru/wb/crop/clothes4/student.zip\n",
        "!unzip student.zip"
      ]
    },
    {
      "cell_type": "markdown",
      "source": [
        "## Анализ данных (EDA)"
      ],
      "metadata": {
        "id": "79bvnBsXim0R"
      }
    },
    {
      "cell_type": "code",
      "source": [
        "# Put your code here"
      ],
      "metadata": {
        "id": "eJrcSn3gjBWj"
      },
      "execution_count": null,
      "outputs": []
    },
    {
      "cell_type": "markdown",
      "source": [
        "# Метрики"
      ],
      "metadata": {
        "id": "OZ06649Gi6lL"
      }
    },
    {
      "cell_type": "code",
      "source": [
        "# Put your code here"
      ],
      "metadata": {
        "id": "mXd0AD_MjFm-"
      },
      "execution_count": null,
      "outputs": []
    },
    {
      "cell_type": "markdown",
      "source": [
        "## Baseline"
      ],
      "metadata": {
        "id": "AQSV0GS6jGiP"
      }
    },
    {
      "cell_type": "code",
      "source": [
        "# Put your code here"
      ],
      "metadata": {
        "id": "hZnOWuYWjIlY"
      },
      "execution_count": null,
      "outputs": []
    },
    {
      "cell_type": "markdown",
      "source": [
        "## Решение"
      ],
      "metadata": {
        "id": "TcxdaRH0jT8J"
      }
    },
    {
      "cell_type": "code",
      "source": [
        "# Put your code here"
      ],
      "metadata": {
        "id": "ryhpxGvWjeG3"
      },
      "execution_count": null,
      "outputs": []
    },
    {
      "cell_type": "markdown",
      "source": [
        "## Оценка результата"
      ],
      "metadata": {
        "id": "RevAHksWjWFd"
      }
    },
    {
      "cell_type": "code",
      "source": [
        "# Put your code here"
      ],
      "metadata": {
        "id": "o0LBoL4tjelW"
      },
      "execution_count": null,
      "outputs": []
    },
    {
      "cell_type": "markdown",
      "source": [
        "## Вывод\n",
        "\n",
        "..."
      ],
      "metadata": {
        "id": "zXacMHM3hG90"
      }
    },
    {
      "cell_type": "markdown",
      "source": [
        "# Тестовый блок для проверки\n",
        "\n",
        "Поместите сюда весь необходимый код для тестирования вашей модели на новых данных. Убедитесь что\n",
        "\n",
        "- Импортируются все библиотеки и классы\n",
        "- Подгружабтся веса с внешних ресурсов\n",
        "- Происходит рассчет метрик\n",
        "..."
      ],
      "metadata": {
        "id": "Gwmp5GtDiCWV"
      }
    },
    {
      "cell_type": "code",
      "source": [
        "# Put your code here"
      ],
      "metadata": {
        "id": "MNSZBBobii7H"
      },
      "execution_count": null,
      "outputs": []
    }
  ]
}